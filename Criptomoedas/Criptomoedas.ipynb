{
 "cells": [
  {
   "cell_type": "markdown",
   "source": "# Investpy",
   "metadata": {
    "cell_id": "a012b79809fa46159514b69aa2373e91",
    "tags": [],
    "is_collapsed": false,
    "deepnote_cell_type": "text-cell-h1"
   }
  },
  {
   "cell_type": "code",
   "metadata": {
    "tags": [],
    "cell_id": "c6599b39-dfbf-40cf-a2e3-3387ad738788",
    "deepnote_to_be_reexecuted": false,
    "source_hash": "15401c70",
    "execution_start": 1648219864853,
    "execution_millis": 12000,
    "deepnote_cell_type": "code",
    "deepnote_cell_height": 649.25
   },
   "source": "## instalando a biblioteca no ambiente de trabalho\n!pip install investpy",
   "execution_count": 1,
   "outputs": [
    {
     "name": "stdout",
     "text": "Collecting investpy\n  Downloading investpy-1.0.8.tar.gz (4.4 MB)\n\u001b[K     |████████████████████████████████| 4.4 MB 16.9 MB/s \n\u001b[?25hCollecting Unidecode>=1.1.1\n  Downloading Unidecode-1.3.4-py3-none-any.whl (235 kB)\n\u001b[K     |████████████████████████████████| 235 kB 36.8 MB/s \n\u001b[?25hRequirement already satisfied: setuptools>=41.2.0 in /root/venv/lib/python3.7/site-packages (from investpy) (47.1.0)\nRequirement already satisfied: numpy>=1.17.2 in /shared-libs/python3.7/py-core/lib/python3.7/site-packages (from investpy) (1.21.5)\nRequirement already satisfied: pandas>=0.25.1 in /shared-libs/python3.7/py/lib/python3.7/site-packages (from investpy) (1.2.5)\nRequirement already satisfied: lxml>=4.4.1 in /shared-libs/python3.7/py/lib/python3.7/site-packages (from investpy) (4.8.0)\nRequirement already satisfied: requests>=2.22.0 in /shared-libs/python3.7/py-core/lib/python3.7/site-packages (from investpy) (2.27.1)\nRequirement already satisfied: pytz>=2019.3 in /shared-libs/python3.7/py-core/lib/python3.7/site-packages (from investpy) (2021.3)\nRequirement already satisfied: python-dateutil>=2.7.3 in /shared-libs/python3.7/py-core/lib/python3.7/site-packages (from pandas>=0.25.1->investpy) (2.8.2)\nRequirement already satisfied: idna<4,>=2.5; python_version >= \"3\" in /shared-libs/python3.7/py-core/lib/python3.7/site-packages (from requests>=2.22.0->investpy) (3.3)\nRequirement already satisfied: charset-normalizer~=2.0.0; python_version >= \"3\" in /shared-libs/python3.7/py-core/lib/python3.7/site-packages (from requests>=2.22.0->investpy) (2.0.12)\nRequirement already satisfied: certifi>=2017.4.17 in /shared-libs/python3.7/py-core/lib/python3.7/site-packages (from requests>=2.22.0->investpy) (2021.10.8)\nRequirement already satisfied: urllib3<1.27,>=1.21.1 in /shared-libs/python3.7/py-core/lib/python3.7/site-packages (from requests>=2.22.0->investpy) (1.26.8)\nRequirement already satisfied: six>=1.5 in /shared-libs/python3.7/py-core/lib/python3.7/site-packages (from python-dateutil>=2.7.3->pandas>=0.25.1->investpy) (1.16.0)\nBuilding wheels for collected packages: investpy\n  Building wheel for investpy (setup.py) ... \u001b[?25ldone\n\u001b[?25h  Created wheel for investpy: filename=investpy-1.0.8-py3-none-any.whl size=4481576 sha256=5dbfd5c31ef87ae535de904a47994e9fd5bb396286a2c849b6e2ecb24edaa293\n  Stored in directory: /root/.cache/pip/wheels/96/a8/a5/0d33c72eaf00b41df7b9dc1e15d2b7c7154b3f1379ed350211\nSuccessfully built investpy\nInstalling collected packages: Unidecode, investpy\nSuccessfully installed Unidecode-1.3.4 investpy-1.0.8\n\u001b[33mWARNING: You are using pip version 20.1.1; however, version 22.0.4 is available.\nYou should consider upgrading via the '/root/venv/bin/python -m pip install --upgrade pip' command.\u001b[0m\n",
     "output_type": "stream"
    }
   ]
  },
  {
   "cell_type": "code",
   "metadata": {
    "cell_id": "a10c661543e44c9b9bf99b22c45bd215",
    "tags": [],
    "deepnote_to_be_reexecuted": false,
    "source_hash": "e076a21",
    "execution_start": 1648219879391,
    "execution_millis": 699,
    "deepnote_cell_type": "code",
    "deepnote_cell_height": 98.5
   },
   "source": "## importando a biblioteca para utilizar no caderno\nimport investpy",
   "execution_count": 2,
   "outputs": []
  },
  {
   "cell_type": "code",
   "metadata": {
    "cell_id": "cbffb2808c704857a3ac09758329d727",
    "tags": [],
    "deepnote_to_be_reexecuted": false,
    "source_hash": "26bad585",
    "execution_start": 1648219882106,
    "execution_millis": 1333,
    "deepnote_cell_type": "code",
    "deepnote_cell_height": 278.5
   },
   "source": "## uso básico\n## buscando os dados históricos\ncripto = 'bitcoin'\nperiodo_inicial = '01/01/2022'\nperiodo_final = '01/03/2022' \n\ndf = investpy.get_crypto_historical_data(\n    crypto=cripto,\n    from_date=periodo_inicial,\n    to_date=periodo_final\n)\n",
   "execution_count": 3,
   "outputs": []
  },
  {
   "cell_type": "code",
   "metadata": {
    "cell_id": "d2a5aa685c4048dc9d6486aed65cf9dd",
    "tags": [],
    "deepnote_to_be_reexecuted": false,
    "source_hash": "f804c160",
    "execution_start": 1648219884357,
    "execution_millis": 213,
    "deepnote_cell_type": "code",
    "deepnote_cell_height": 597
   },
   "source": "df",
   "execution_count": 4,
   "outputs": [
    {
     "output_type": "execute_result",
     "execution_count": 4,
     "data": {
      "application/vnd.deepnote.dataframe.v3+json": {
       "column_count": 6,
       "row_count": 60,
       "columns": [
        {
         "name": "Open",
         "dtype": "float64",
         "stats": {
          "unique_count": 60,
          "nan_count": 0,
          "min": "35072.9",
          "max": "47738.7",
          "histogram": [
           {
            "bin_start": 35072.9,
            "bin_end": 36339.48,
            "count": 2
           },
           {
            "bin_start": 36339.48,
            "bin_end": 37606.06,
            "count": 9
           },
           {
            "bin_start": 37606.06,
            "bin_end": 38872.64,
            "count": 9
           },
           {
            "bin_start": 38872.64,
            "bin_end": 40139.22,
            "count": 4
           },
           {
            "bin_start": 40139.22,
            "bin_end": 41405.8,
            "count": 2
           },
           {
            "bin_start": 41405.8,
            "bin_end": 42672.38,
            "count": 15
           },
           {
            "bin_start": 42672.38,
            "bin_end": 43938.96,
            "count": 11
           },
           {
            "bin_start": 43938.96,
            "bin_end": 45205.53999999999,
            "count": 3
           },
           {
            "bin_start": 45205.53999999999,
            "bin_end": 46472.119999999995,
            "count": 3
           },
           {
            "bin_start": 46472.119999999995,
            "bin_end": 47738.7,
            "count": 2
           }
          ]
         }
        },
        {
         "name": "High",
         "dtype": "float64",
         "stats": {
          "unique_count": 60,
          "nan_count": 0,
          "min": "36513.0",
          "max": "47944.9",
          "histogram": [
           {
            "bin_start": 36513,
            "bin_end": 37656.19,
            "count": 6
           },
           {
            "bin_start": 37656.19,
            "bin_end": 38799.38,
            "count": 5
           },
           {
            "bin_start": 38799.38,
            "bin_end": 39942.57,
            "count": 8
           },
           {
            "bin_start": 39942.57,
            "bin_end": 41085.76,
            "count": 4
           },
           {
            "bin_start": 41085.76,
            "bin_end": 42228.95,
            "count": 3
           },
           {
            "bin_start": 42228.95,
            "bin_end": 43372.14,
            "count": 12
           },
           {
            "bin_start": 43372.14,
            "bin_end": 44515.33,
            "count": 11
           },
           {
            "bin_start": 44515.33,
            "bin_end": 45658.520000000004,
            "count": 5
           },
           {
            "bin_start": 45658.520000000004,
            "bin_end": 46801.71,
            "count": 1
           },
           {
            "bin_start": 46801.71,
            "bin_end": 47944.9,
            "count": 5
           }
          ]
         }
        },
        {
         "name": "Low",
         "dtype": "float64",
         "stats": {
          "unique_count": 60,
          "nan_count": 0,
          "min": "32985.6",
          "max": "46718.2",
          "histogram": [
           {
            "bin_start": 32985.6,
            "bin_end": 34358.86,
            "count": 3
           },
           {
            "bin_start": 34358.86,
            "bin_end": 35732.119999999995,
            "count": 4
           },
           {
            "bin_start": 35732.119999999995,
            "bin_end": 37105.38,
            "count": 10
           },
           {
            "bin_start": 37105.38,
            "bin_end": 38478.64,
            "count": 6
           },
           {
            "bin_start": 38478.64,
            "bin_end": 39851.899999999994,
            "count": 4
           },
           {
            "bin_start": 39851.899999999994,
            "bin_end": 41225.159999999996,
            "count": 7
           },
           {
            "bin_start": 41225.159999999996,
            "bin_end": 42598.42,
            "count": 16
           },
           {
            "bin_start": 42598.42,
            "bin_end": 43971.67999999999,
            "count": 6
           },
           {
            "bin_start": 43971.67999999999,
            "bin_end": 45344.939999999995,
            "count": 0
           },
           {
            "bin_start": 45344.939999999995,
            "bin_end": 46718.2,
            "count": 4
           }
          ]
         }
        },
        {
         "name": "Close",
         "dtype": "float64",
         "stats": {
          "unique_count": 60,
          "nan_count": 0,
          "min": "35075.2",
          "max": "47738.0",
          "histogram": [
           {
            "bin_start": 35075.2,
            "bin_end": 36341.479999999996,
            "count": 2
           },
           {
            "bin_start": 36341.479999999996,
            "bin_end": 37607.759999999995,
            "count": 9
           },
           {
            "bin_start": 37607.759999999995,
            "bin_end": 38874.04,
            "count": 9
           },
           {
            "bin_start": 38874.04,
            "bin_end": 40140.32,
            "count": 4
           },
           {
            "bin_start": 40140.32,
            "bin_end": 41406.6,
            "count": 2
           },
           {
            "bin_start": 41406.6,
            "bin_end": 42672.88,
            "count": 15
           },
           {
            "bin_start": 42672.88,
            "bin_end": 43939.159999999996,
            "count": 11
           },
           {
            "bin_start": 43939.159999999996,
            "bin_end": 45205.44,
            "count": 4
           },
           {
            "bin_start": 45205.44,
            "bin_end": 46471.72,
            "count": 2
           },
           {
            "bin_start": 46471.72,
            "bin_end": 47738,
            "count": 2
           }
          ]
         }
        },
        {
         "name": "Volume",
         "dtype": "int64",
         "stats": {
          "unique_count": 60,
          "nan_count": 0,
          "min": "25781",
          "max": "180473",
          "histogram": [
           {
            "bin_start": 25781,
            "bin_end": 41250.2,
            "count": 11
           },
           {
            "bin_start": 41250.2,
            "bin_end": 56719.4,
            "count": 19
           },
           {
            "bin_start": 56719.4,
            "bin_end": 72188.6,
            "count": 10
           },
           {
            "bin_start": 72188.6,
            "bin_end": 87657.8,
            "count": 8
           },
           {
            "bin_start": 87657.8,
            "bin_end": 103127,
            "count": 6
           },
           {
            "bin_start": 103127,
            "bin_end": 118596.20000000001,
            "count": 2
           },
           {
            "bin_start": 118596.20000000001,
            "bin_end": 134065.40000000002,
            "count": 0
           },
           {
            "bin_start": 134065.40000000002,
            "bin_end": 149534.6,
            "count": 1
           },
           {
            "bin_start": 149534.6,
            "bin_end": 165003.80000000002,
            "count": 2
           },
           {
            "bin_start": 165003.80000000002,
            "bin_end": 180473,
            "count": 1
           }
          ]
         }
        },
        {
         "name": "Currency",
         "dtype": "object",
         "stats": {
          "unique_count": 1,
          "nan_count": 0,
          "categories": [
           {
            "name": "USD",
            "count": 60
           }
          ]
         }
        },
        {
         "name": "_deepnote_index_column",
         "dtype": "datetime64[ns]"
        }
       ],
       "rows": [
        {
         "Open": 46217.5,
         "High": 47917.6,
         "Low": 46217.5,
         "Close": 47738,
         "Volume": 31239,
         "Currency": "USD",
         "_deepnote_index_column": "2022-01-01T00:00:00.000000"
        },
        {
         "Open": 47738.7,
         "High": 47944.9,
         "Low": 46718.2,
         "Close": 47311.8,
         "Volume": 27020,
         "Currency": "USD",
         "_deepnote_index_column": "2022-01-02T00:00:00.000000"
        },
        {
         "Open": 47293.9,
         "High": 47556,
         "Low": 45704,
         "Close": 46430.2,
         "Volume": 41062,
         "Currency": "USD",
         "_deepnote_index_column": "2022-01-03T00:00:00.000000"
        },
        {
         "Open": 46435.7,
         "High": 47505.4,
         "Low": 45602.1,
         "Close": 45837.3,
         "Volume": 55589,
         "Currency": "USD",
         "_deepnote_index_column": "2022-01-04T00:00:00.000000"
        },
        {
         "Open": 45833.1,
         "High": 47019.4,
         "Low": 42535.1,
         "Close": 43425.9,
         "Volume": 83744,
         "Currency": "USD",
         "_deepnote_index_column": "2022-01-05T00:00:00.000000"
        },
        {
         "Open": 43431.6,
         "High": 43772.3,
         "Low": 42481.1,
         "Close": 43097.5,
         "Volume": 63076,
         "Currency": "USD",
         "_deepnote_index_column": "2022-01-06T00:00:00.000000"
        },
        {
         "Open": 43097.9,
         "High": 43127.7,
         "Low": 40810,
         "Close": 41546.7,
         "Volume": 88358,
         "Currency": "USD",
         "_deepnote_index_column": "2022-01-07T00:00:00.000000"
        },
        {
         "Open": 41551.3,
         "High": 42304.4,
         "Low": 40574.3,
         "Close": 41672,
         "Volume": 52544,
         "Currency": "USD",
         "_deepnote_index_column": "2022-01-08T00:00:00.000000"
        },
        {
         "Open": 41681.2,
         "High": 42764.4,
         "Low": 41260.9,
         "Close": 41848.3,
         "Volume": 37512,
         "Currency": "USD",
         "_deepnote_index_column": "2022-01-09T00:00:00.000000"
        },
        {
         "Open": 41848.9,
         "High": 42243.8,
         "Low": 39697,
         "Close": 41832.2,
         "Volume": 85501,
         "Currency": "USD",
         "_deepnote_index_column": "2022-01-10T00:00:00.000000"
        }
       ]
      },
      "text/plain": "               Open     High      Low    Close  Volume Currency\nDate                                                           \n2022-01-01  46217.5  47917.6  46217.5  47738.0   31239      USD\n2022-01-02  47738.7  47944.9  46718.2  47311.8   27020      USD\n2022-01-03  47293.9  47556.0  45704.0  46430.2   41062      USD\n2022-01-04  46435.7  47505.4  45602.1  45837.3   55589      USD\n2022-01-05  45833.1  47019.4  42535.1  43425.9   83744      USD\n2022-01-06  43431.6  43772.3  42481.1  43097.5   63076      USD\n2022-01-07  43097.9  43127.7  40810.0  41546.7   88358      USD\n2022-01-08  41551.3  42304.4  40574.3  41672.0   52544      USD\n2022-01-09  41681.2  42764.4  41260.9  41848.3   37512      USD\n2022-01-10  41848.9  42243.8  39697.0  41832.2   85501      USD\n2022-01-11  41829.1  43090.2  41287.6  42733.2   61779      USD\n2022-01-12  42735.0  44243.6  42476.7  43901.0   53947      USD\n2022-01-13  43900.0  44404.7  42337.5  42560.0   53418      USD\n2022-01-14  42562.2  43435.1  41848.7  43073.3   50502      USD\n2022-01-15  43073.6  43777.9  42586.1  43097.0   31441      USD\n2022-01-16  43079.2  43462.0  42643.3  43079.1   28664      USD\n2022-01-17  43080.5  43179.6  41559.4  42209.3   41441      USD\n2022-01-18  42209.9  42674.2  41300.7  42364.6   47320      USD\n2022-01-19  42365.3  42558.0  41160.9  41677.8   53774      USD\n2022-01-20  41683.6  43487.1  40568.3  40715.9   65279      USD\n2022-01-21  40698.1  41104.6  35503.9  36475.5  155796      USD\n2022-01-22  36467.7  36749.8  34116.0  35075.2  138094      USD\n2022-01-23  35072.9  36513.0  34655.2  36269.5   70430      USD\n2022-01-24  36268.6  37424.0  32985.6  36686.3  153765      USD\n2022-01-25  36691.3  37501.8  35729.3  36950.6   79682      USD\n2022-01-26  36962.3  38862.6  36280.0  36800.4  107865      USD\n2022-01-27  36800.1  37215.4  35543.2  37164.3   83517      USD\n2022-01-28  37195.6  37995.9  36176.5  37745.1   69445      USD\n2022-01-29  37736.5  38663.7  37350.2  38170.8   42771      USD\n2022-01-30  38167.5  38313.3  37390.6  37917.7   34103      USD\n2022-01-31  37923.8  38701.4  36672.8  38498.6   61266      USD\n2022-02-01  38475.6  39230.0  38037.9  38709.7   55200      USD\n2022-02-02  38711.2  38853.8  36682.3  36890.2   53743      USD\n2022-02-03  36890.2  37304.3  36297.3  37287.8   50346      USD\n2022-02-04  37287.8  41689.0  37041.1  41567.6   95492      USD\n2022-02-05  41566.5  41899.8  40963.3  41412.1   46319      USD\n2022-02-06  41411.9  42614.8  41176.3  42392.2   31202      USD\n2022-02-07  42385.2  44468.3  41695.4  43833.9   76604      USD\n2022-02-08  43833.9  45399.8  42705.0  44038.2   92878      USD\n2022-02-09  44038.2  44800.4  43163.0  44388.9   50920      USD\n2022-02-10  44388.9  45755.2  43242.5  43521.0   89692      USD\n2022-02-11  43519.3  43915.1  42023.4  42388.4   69945      USD\n2022-02-12  42388.4  43006.4  41776.8  42205.2   37881      USD\n2022-02-13  42205.5  42725.1  41880.1  42061.1   25882      USD\n2022-02-14  42061.1  42799.7  41591.3  42550.3   53598      USD\n2022-02-15  42550.3  44722.6  42460.1  44544.4   56336      USD\n2022-02-16  44540.9  44552.9  43377.6  43883.6   41404      USD\n2022-02-17  43885.5  44167.1  40103.8  40552.8   72625      USD\n2022-02-18  40532.5  40935.5  39505.0  40000.1   64963      USD\n2022-02-19  40000.1  40434.3  39666.6  40090.3   25781      USD\n2022-02-20  40089.6  40120.3  38042.2  38355.0   47920      USD\n2022-02-21  38355.0  39444.1  36868.9  37017.7   91815      USD\n2022-02-22  37018.3  38414.9  36399.6  38248.2   82745      USD\n2022-02-23  38248.2  39194.5  37099.5  37224.6   64841      USD\n2022-02-24  37250.2  39351.6  34357.4  38339.2  180473      USD\n2022-02-25  38339.2  39683.7  38042.6  39209.6   83780      USD\n2022-02-26  39221.6  40094.5  38639.1  39115.5   41546      USD\n2022-02-27  39116.6  39838.5  37062.3  37689.1   66143      USD\n2022-02-28  37707.2  43977.8  37458.9  43188.2  108070      USD\n2022-03-01  43187.2  44900.5  42876.6  44420.3   90670      USD",
      "text/html": "<div>\n<style scoped>\n    .dataframe tbody tr th:only-of-type {\n        vertical-align: middle;\n    }\n\n    .dataframe tbody tr th {\n        vertical-align: top;\n    }\n\n    .dataframe thead th {\n        text-align: right;\n    }\n</style>\n<table border=\"1\" class=\"dataframe\">\n  <thead>\n    <tr style=\"text-align: right;\">\n      <th></th>\n      <th>Open</th>\n      <th>High</th>\n      <th>Low</th>\n      <th>Close</th>\n      <th>Volume</th>\n      <th>Currency</th>\n    </tr>\n    <tr>\n      <th>Date</th>\n      <th></th>\n      <th></th>\n      <th></th>\n      <th></th>\n      <th></th>\n      <th></th>\n    </tr>\n  </thead>\n  <tbody>\n    <tr>\n      <th>2022-01-01</th>\n      <td>46217.5</td>\n      <td>47917.6</td>\n      <td>46217.5</td>\n      <td>47738.0</td>\n      <td>31239</td>\n      <td>USD</td>\n    </tr>\n    <tr>\n      <th>2022-01-02</th>\n      <td>47738.7</td>\n      <td>47944.9</td>\n      <td>46718.2</td>\n      <td>47311.8</td>\n      <td>27020</td>\n      <td>USD</td>\n    </tr>\n    <tr>\n      <th>2022-01-03</th>\n      <td>47293.9</td>\n      <td>47556.0</td>\n      <td>45704.0</td>\n      <td>46430.2</td>\n      <td>41062</td>\n      <td>USD</td>\n    </tr>\n    <tr>\n      <th>2022-01-04</th>\n      <td>46435.7</td>\n      <td>47505.4</td>\n      <td>45602.1</td>\n      <td>45837.3</td>\n      <td>55589</td>\n      <td>USD</td>\n    </tr>\n    <tr>\n      <th>2022-01-05</th>\n      <td>45833.1</td>\n      <td>47019.4</td>\n      <td>42535.1</td>\n      <td>43425.9</td>\n      <td>83744</td>\n      <td>USD</td>\n    </tr>\n    <tr>\n      <th>2022-01-06</th>\n      <td>43431.6</td>\n      <td>43772.3</td>\n      <td>42481.1</td>\n      <td>43097.5</td>\n      <td>63076</td>\n      <td>USD</td>\n    </tr>\n    <tr>\n      <th>2022-01-07</th>\n      <td>43097.9</td>\n      <td>43127.7</td>\n      <td>40810.0</td>\n      <td>41546.7</td>\n      <td>88358</td>\n      <td>USD</td>\n    </tr>\n    <tr>\n      <th>2022-01-08</th>\n      <td>41551.3</td>\n      <td>42304.4</td>\n      <td>40574.3</td>\n      <td>41672.0</td>\n      <td>52544</td>\n      <td>USD</td>\n    </tr>\n    <tr>\n      <th>2022-01-09</th>\n      <td>41681.2</td>\n      <td>42764.4</td>\n      <td>41260.9</td>\n      <td>41848.3</td>\n      <td>37512</td>\n      <td>USD</td>\n    </tr>\n    <tr>\n      <th>2022-01-10</th>\n      <td>41848.9</td>\n      <td>42243.8</td>\n      <td>39697.0</td>\n      <td>41832.2</td>\n      <td>85501</td>\n      <td>USD</td>\n    </tr>\n    <tr>\n      <th>2022-01-11</th>\n      <td>41829.1</td>\n      <td>43090.2</td>\n      <td>41287.6</td>\n      <td>42733.2</td>\n      <td>61779</td>\n      <td>USD</td>\n    </tr>\n    <tr>\n      <th>2022-01-12</th>\n      <td>42735.0</td>\n      <td>44243.6</td>\n      <td>42476.7</td>\n      <td>43901.0</td>\n      <td>53947</td>\n      <td>USD</td>\n    </tr>\n    <tr>\n      <th>2022-01-13</th>\n      <td>43900.0</td>\n      <td>44404.7</td>\n      <td>42337.5</td>\n      <td>42560.0</td>\n      <td>53418</td>\n      <td>USD</td>\n    </tr>\n    <tr>\n      <th>2022-01-14</th>\n      <td>42562.2</td>\n      <td>43435.1</td>\n      <td>41848.7</td>\n      <td>43073.3</td>\n      <td>50502</td>\n      <td>USD</td>\n    </tr>\n    <tr>\n      <th>2022-01-15</th>\n      <td>43073.6</td>\n      <td>43777.9</td>\n      <td>42586.1</td>\n      <td>43097.0</td>\n      <td>31441</td>\n      <td>USD</td>\n    </tr>\n    <tr>\n      <th>2022-01-16</th>\n      <td>43079.2</td>\n      <td>43462.0</td>\n      <td>42643.3</td>\n      <td>43079.1</td>\n      <td>28664</td>\n      <td>USD</td>\n    </tr>\n    <tr>\n      <th>2022-01-17</th>\n      <td>43080.5</td>\n      <td>43179.6</td>\n      <td>41559.4</td>\n      <td>42209.3</td>\n      <td>41441</td>\n      <td>USD</td>\n    </tr>\n    <tr>\n      <th>2022-01-18</th>\n      <td>42209.9</td>\n      <td>42674.2</td>\n      <td>41300.7</td>\n      <td>42364.6</td>\n      <td>47320</td>\n      <td>USD</td>\n    </tr>\n    <tr>\n      <th>2022-01-19</th>\n      <td>42365.3</td>\n      <td>42558.0</td>\n      <td>41160.9</td>\n      <td>41677.8</td>\n      <td>53774</td>\n      <td>USD</td>\n    </tr>\n    <tr>\n      <th>2022-01-20</th>\n      <td>41683.6</td>\n      <td>43487.1</td>\n      <td>40568.3</td>\n      <td>40715.9</td>\n      <td>65279</td>\n      <td>USD</td>\n    </tr>\n    <tr>\n      <th>2022-01-21</th>\n      <td>40698.1</td>\n      <td>41104.6</td>\n      <td>35503.9</td>\n      <td>36475.5</td>\n      <td>155796</td>\n      <td>USD</td>\n    </tr>\n    <tr>\n      <th>2022-01-22</th>\n      <td>36467.7</td>\n      <td>36749.8</td>\n      <td>34116.0</td>\n      <td>35075.2</td>\n      <td>138094</td>\n      <td>USD</td>\n    </tr>\n    <tr>\n      <th>2022-01-23</th>\n      <td>35072.9</td>\n      <td>36513.0</td>\n      <td>34655.2</td>\n      <td>36269.5</td>\n      <td>70430</td>\n      <td>USD</td>\n    </tr>\n    <tr>\n      <th>2022-01-24</th>\n      <td>36268.6</td>\n      <td>37424.0</td>\n      <td>32985.6</td>\n      <td>36686.3</td>\n      <td>153765</td>\n      <td>USD</td>\n    </tr>\n    <tr>\n      <th>2022-01-25</th>\n      <td>36691.3</td>\n      <td>37501.8</td>\n      <td>35729.3</td>\n      <td>36950.6</td>\n      <td>79682</td>\n      <td>USD</td>\n    </tr>\n    <tr>\n      <th>2022-01-26</th>\n      <td>36962.3</td>\n      <td>38862.6</td>\n      <td>36280.0</td>\n      <td>36800.4</td>\n      <td>107865</td>\n      <td>USD</td>\n    </tr>\n    <tr>\n      <th>2022-01-27</th>\n      <td>36800.1</td>\n      <td>37215.4</td>\n      <td>35543.2</td>\n      <td>37164.3</td>\n      <td>83517</td>\n      <td>USD</td>\n    </tr>\n    <tr>\n      <th>2022-01-28</th>\n      <td>37195.6</td>\n      <td>37995.9</td>\n      <td>36176.5</td>\n      <td>37745.1</td>\n      <td>69445</td>\n      <td>USD</td>\n    </tr>\n    <tr>\n      <th>2022-01-29</th>\n      <td>37736.5</td>\n      <td>38663.7</td>\n      <td>37350.2</td>\n      <td>38170.8</td>\n      <td>42771</td>\n      <td>USD</td>\n    </tr>\n    <tr>\n      <th>2022-01-30</th>\n      <td>38167.5</td>\n      <td>38313.3</td>\n      <td>37390.6</td>\n      <td>37917.7</td>\n      <td>34103</td>\n      <td>USD</td>\n    </tr>\n    <tr>\n      <th>2022-01-31</th>\n      <td>37923.8</td>\n      <td>38701.4</td>\n      <td>36672.8</td>\n      <td>38498.6</td>\n      <td>61266</td>\n      <td>USD</td>\n    </tr>\n    <tr>\n      <th>2022-02-01</th>\n      <td>38475.6</td>\n      <td>39230.0</td>\n      <td>38037.9</td>\n      <td>38709.7</td>\n      <td>55200</td>\n      <td>USD</td>\n    </tr>\n    <tr>\n      <th>2022-02-02</th>\n      <td>38711.2</td>\n      <td>38853.8</td>\n      <td>36682.3</td>\n      <td>36890.2</td>\n      <td>53743</td>\n      <td>USD</td>\n    </tr>\n    <tr>\n      <th>2022-02-03</th>\n      <td>36890.2</td>\n      <td>37304.3</td>\n      <td>36297.3</td>\n      <td>37287.8</td>\n      <td>50346</td>\n      <td>USD</td>\n    </tr>\n    <tr>\n      <th>2022-02-04</th>\n      <td>37287.8</td>\n      <td>41689.0</td>\n      <td>37041.1</td>\n      <td>41567.6</td>\n      <td>95492</td>\n      <td>USD</td>\n    </tr>\n    <tr>\n      <th>2022-02-05</th>\n      <td>41566.5</td>\n      <td>41899.8</td>\n      <td>40963.3</td>\n      <td>41412.1</td>\n      <td>46319</td>\n      <td>USD</td>\n    </tr>\n    <tr>\n      <th>2022-02-06</th>\n      <td>41411.9</td>\n      <td>42614.8</td>\n      <td>41176.3</td>\n      <td>42392.2</td>\n      <td>31202</td>\n      <td>USD</td>\n    </tr>\n    <tr>\n      <th>2022-02-07</th>\n      <td>42385.2</td>\n      <td>44468.3</td>\n      <td>41695.4</td>\n      <td>43833.9</td>\n      <td>76604</td>\n      <td>USD</td>\n    </tr>\n    <tr>\n      <th>2022-02-08</th>\n      <td>43833.9</td>\n      <td>45399.8</td>\n      <td>42705.0</td>\n      <td>44038.2</td>\n      <td>92878</td>\n      <td>USD</td>\n    </tr>\n    <tr>\n      <th>2022-02-09</th>\n      <td>44038.2</td>\n      <td>44800.4</td>\n      <td>43163.0</td>\n      <td>44388.9</td>\n      <td>50920</td>\n      <td>USD</td>\n    </tr>\n    <tr>\n      <th>2022-02-10</th>\n      <td>44388.9</td>\n      <td>45755.2</td>\n      <td>43242.5</td>\n      <td>43521.0</td>\n      <td>89692</td>\n      <td>USD</td>\n    </tr>\n    <tr>\n      <th>2022-02-11</th>\n      <td>43519.3</td>\n      <td>43915.1</td>\n      <td>42023.4</td>\n      <td>42388.4</td>\n      <td>69945</td>\n      <td>USD</td>\n    </tr>\n    <tr>\n      <th>2022-02-12</th>\n      <td>42388.4</td>\n      <td>43006.4</td>\n      <td>41776.8</td>\n      <td>42205.2</td>\n      <td>37881</td>\n      <td>USD</td>\n    </tr>\n    <tr>\n      <th>2022-02-13</th>\n      <td>42205.5</td>\n      <td>42725.1</td>\n      <td>41880.1</td>\n      <td>42061.1</td>\n      <td>25882</td>\n      <td>USD</td>\n    </tr>\n    <tr>\n      <th>2022-02-14</th>\n      <td>42061.1</td>\n      <td>42799.7</td>\n      <td>41591.3</td>\n      <td>42550.3</td>\n      <td>53598</td>\n      <td>USD</td>\n    </tr>\n    <tr>\n      <th>2022-02-15</th>\n      <td>42550.3</td>\n      <td>44722.6</td>\n      <td>42460.1</td>\n      <td>44544.4</td>\n      <td>56336</td>\n      <td>USD</td>\n    </tr>\n    <tr>\n      <th>2022-02-16</th>\n      <td>44540.9</td>\n      <td>44552.9</td>\n      <td>43377.6</td>\n      <td>43883.6</td>\n      <td>41404</td>\n      <td>USD</td>\n    </tr>\n    <tr>\n      <th>2022-02-17</th>\n      <td>43885.5</td>\n      <td>44167.1</td>\n      <td>40103.8</td>\n      <td>40552.8</td>\n      <td>72625</td>\n      <td>USD</td>\n    </tr>\n    <tr>\n      <th>2022-02-18</th>\n      <td>40532.5</td>\n      <td>40935.5</td>\n      <td>39505.0</td>\n      <td>40000.1</td>\n      <td>64963</td>\n      <td>USD</td>\n    </tr>\n    <tr>\n      <th>2022-02-19</th>\n      <td>40000.1</td>\n      <td>40434.3</td>\n      <td>39666.6</td>\n      <td>40090.3</td>\n      <td>25781</td>\n      <td>USD</td>\n    </tr>\n    <tr>\n      <th>2022-02-20</th>\n      <td>40089.6</td>\n      <td>40120.3</td>\n      <td>38042.2</td>\n      <td>38355.0</td>\n      <td>47920</td>\n      <td>USD</td>\n    </tr>\n    <tr>\n      <th>2022-02-21</th>\n      <td>38355.0</td>\n      <td>39444.1</td>\n      <td>36868.9</td>\n      <td>37017.7</td>\n      <td>91815</td>\n      <td>USD</td>\n    </tr>\n    <tr>\n      <th>2022-02-22</th>\n      <td>37018.3</td>\n      <td>38414.9</td>\n      <td>36399.6</td>\n      <td>38248.2</td>\n      <td>82745</td>\n      <td>USD</td>\n    </tr>\n    <tr>\n      <th>2022-02-23</th>\n      <td>38248.2</td>\n      <td>39194.5</td>\n      <td>37099.5</td>\n      <td>37224.6</td>\n      <td>64841</td>\n      <td>USD</td>\n    </tr>\n    <tr>\n      <th>2022-02-24</th>\n      <td>37250.2</td>\n      <td>39351.6</td>\n      <td>34357.4</td>\n      <td>38339.2</td>\n      <td>180473</td>\n      <td>USD</td>\n    </tr>\n    <tr>\n      <th>2022-02-25</th>\n      <td>38339.2</td>\n      <td>39683.7</td>\n      <td>38042.6</td>\n      <td>39209.6</td>\n      <td>83780</td>\n      <td>USD</td>\n    </tr>\n    <tr>\n      <th>2022-02-26</th>\n      <td>39221.6</td>\n      <td>40094.5</td>\n      <td>38639.1</td>\n      <td>39115.5</td>\n      <td>41546</td>\n      <td>USD</td>\n    </tr>\n    <tr>\n      <th>2022-02-27</th>\n      <td>39116.6</td>\n      <td>39838.5</td>\n      <td>37062.3</td>\n      <td>37689.1</td>\n      <td>66143</td>\n      <td>USD</td>\n    </tr>\n    <tr>\n      <th>2022-02-28</th>\n      <td>37707.2</td>\n      <td>43977.8</td>\n      <td>37458.9</td>\n      <td>43188.2</td>\n      <td>108070</td>\n      <td>USD</td>\n    </tr>\n    <tr>\n      <th>2022-03-01</th>\n      <td>43187.2</td>\n      <td>44900.5</td>\n      <td>42876.6</td>\n      <td>44420.3</td>\n      <td>90670</td>\n      <td>USD</td>\n    </tr>\n  </tbody>\n</table>\n</div>"
     },
     "metadata": {}
    }
   ]
  },
  {
   "cell_type": "code",
   "metadata": {
    "cell_id": "0a52ab78238046bab67d9c238525565e",
    "tags": [],
    "deepnote_to_be_reexecuted": false,
    "source_hash": "268c9187",
    "execution_start": 1648219886553,
    "execution_millis": 1007,
    "deepnote_cell_type": "code",
    "deepnote_cell_height": 188.5
   },
   "source": "## utilizando a ferramenta de pesquisa do investing.com\n## definindo os parâmetros de pesquisa\npesquisa = investpy.search_quotes(\n    text='bitcoin',\n    products=['cryptos'],\n    n_results=1\n)",
   "execution_count": 5,
   "outputs": []
  },
  {
   "cell_type": "code",
   "metadata": {
    "cell_id": "b2df4f28fa2d48b49f800d8b0a2049fa",
    "tags": [],
    "deepnote_to_be_reexecuted": false,
    "source_hash": "7afa4439",
    "execution_start": 1648219889180,
    "execution_millis": 385,
    "deepnote_cell_type": "code",
    "deepnote_cell_height": 140.0833282470703
   },
   "source": "## imprimindo os parâmetros de pesquisa\nprint(pesquisa)",
   "execution_count": 6,
   "outputs": [
    {
     "name": "stdout",
     "text": "{\"id_\": 945629, \"name\": \"Bitcoin US Dollar\", \"symbol\": \"BTC/USD\", \"country\": null, \"tag\": \"/crypto/bitcoin/btc-usd\", \"pair_type\": \"cryptos\", \"exchange\": \"Bitfinex\"}\n",
     "output_type": "stream"
    }
   ]
  },
  {
   "cell_type": "code",
   "metadata": {
    "cell_id": "a044b5a17fbc4275879f94cd72398029",
    "tags": [],
    "deepnote_to_be_reexecuted": false,
    "source_hash": "970488bc",
    "execution_start": 1648219890664,
    "execution_millis": 242,
    "deepnote_cell_type": "code",
    "deepnote_cell_height": 401.41668701171875
   },
   "source": "## pesquisando os dados recentes usando os parâmetros de pesquisa\ndados_recentes = pesquisa.retrieve_recent_data()\nprint(dados_recentes.info())",
   "execution_count": 7,
   "outputs": [
    {
     "name": "stdout",
     "text": "<class 'pandas.core.frame.DataFrame'>\nDatetimeIndex: 29 entries, 2022-02-25 to 2022-03-25\nData columns (total 6 columns):\n #   Column      Non-Null Count  Dtype  \n---  ------      --------------  -----  \n 0   Open        29 non-null     float64\n 1   High        29 non-null     float64\n 2   Low         29 non-null     float64\n 3   Close       29 non-null     float64\n 4   Volume      29 non-null     int64  \n 5   Change Pct  29 non-null     float64\ndtypes: float64(5), int64(1)\nmemory usage: 1.6 KB\nNone\n",
     "output_type": "stream"
    }
   ]
  },
  {
   "cell_type": "code",
   "metadata": {
    "cell_id": "4143c4bee4e9465cb6f97c57f2f6b2d9",
    "tags": [],
    "deepnote_to_be_reexecuted": false,
    "source_hash": "95874217",
    "execution_start": 1648219892621,
    "execution_millis": 645,
    "deepnote_cell_type": "code",
    "deepnote_cell_height": 455.41668701171875
   },
   "source": "## pesquisando os dados históricos usando os parâmetros de pesquisa\ndados_historicos = pesquisa.retrieve_historical_data(\n    from_date=periodo_inicial,\n    to_date=periodo_final\n)\nprint(dados_historicos.info())",
   "execution_count": 8,
   "outputs": [
    {
     "name": "stdout",
     "text": "<class 'pandas.core.frame.DataFrame'>\nDatetimeIndex: 60 entries, 2022-01-01 to 2022-03-01\nData columns (total 6 columns):\n #   Column      Non-Null Count  Dtype  \n---  ------      --------------  -----  \n 0   Open        60 non-null     float64\n 1   High        60 non-null     float64\n 2   Low         60 non-null     float64\n 3   Close       60 non-null     float64\n 4   Volume      60 non-null     int64  \n 5   Change Pct  60 non-null     float64\ndtypes: float64(5), int64(1)\nmemory usage: 3.3 KB\nNone\n",
     "output_type": "stream"
    }
   ]
  },
  {
   "cell_type": "code",
   "metadata": {
    "cell_id": "821b25039b964b15896b486ffc431bac",
    "tags": [],
    "deepnote_to_be_reexecuted": false,
    "source_hash": "1c8f3771",
    "execution_start": 1648219894389,
    "execution_millis": 45,
    "deepnote_cell_type": "code",
    "deepnote_cell_height": 110.83332824707031
   },
   "source": "print(dados_historicos.columns)",
   "execution_count": 9,
   "outputs": [
    {
     "name": "stdout",
     "text": "Index(['Open', 'High', 'Low', 'Close', 'Volume', 'Change Pct'], dtype='object')\n",
     "output_type": "stream"
    }
   ]
  },
  {
   "cell_type": "code",
   "metadata": {
    "cell_id": "53cba4e449dd4a9b8f15e2ea617a8e66",
    "tags": [],
    "deepnote_to_be_reexecuted": false,
    "source_hash": "417048e9",
    "execution_start": 1648219895322,
    "execution_millis": 333,
    "deepnote_cell_type": "code",
    "deepnote_cell_height": 158.5
   },
   "source": "## pesquisando as informacoes basicas usando os parâmetros de pesquisa\ninfo = pesquisa.retrieve_information()\nprint(info)",
   "execution_count": 10,
   "outputs": [
    {
     "name": "stdout",
     "text": "{'prevClose': 43517, 'bid': 44930, 'dailyRange': '43,495-45,082', 'open': 43517, 'ask': 44932, 'weekRange': '29,341-68,925', 'oneYearReturn': '-15.58%'}\n",
     "output_type": "stream"
    }
   ]
  },
  {
   "cell_type": "code",
   "metadata": {
    "cell_id": "6dad15ee3aa0464d93e37f8fde65d08e",
    "tags": [],
    "deepnote_to_be_reexecuted": false,
    "source_hash": "9f9e5861",
    "execution_start": 1648219896810,
    "execution_millis": 249,
    "deepnote_cell_type": "code",
    "deepnote_cell_height": 381.83331298828125
   },
   "source": "## pesquisando os indicadores técnicos usando os parâmetros de pesquisa\nindicadores = pesquisa.retrieve_technical_indicators()\nprint(indicadores)",
   "execution_count": 11,
   "outputs": [
    {
     "name": "stdout",
     "text": "              indicator           signal      value\n0               RSI(14)              buy    63.7410\n1            STOCH(9,6)       overbought    93.3400\n2          STOCHRSI(14)       overbought   100.0000\n3           MACD(12,26)              buy   773.8000\n4               ADX(14)              buy    30.2160\n5           Williams %R       overbought    -0.4090\n6               CCI(14)              buy   169.6897\n7               ATR(14)  less_volatility  1584.6331\n8        Highs/Lows(14)              buy  3088.1507\n9   Ultimate Oscillator              buy    65.4310\n10                  ROC              buy    16.0090\n11  Bull/Bear Power(13)              buy  4380.2660\n",
     "output_type": "stream"
    }
   ]
  },
  {
   "cell_type": "code",
   "metadata": {
    "cell_id": "bac0b6c364ff4b6e91590f6cd4cbfecc",
    "tags": [],
    "deepnote_to_be_reexecuted": false,
    "source_hash": "9065c65f",
    "execution_start": 1648219899038,
    "execution_millis": 15,
    "deepnote_cell_type": "code",
    "deepnote_cell_height": 615.5
   },
   "source": "indicadores\n",
   "execution_count": 12,
   "outputs": [
    {
     "output_type": "execute_result",
     "execution_count": 12,
     "data": {
      "application/vnd.deepnote.dataframe.v3+json": {
       "column_count": 3,
       "row_count": 12,
       "columns": [
        {
         "name": "indicator",
         "dtype": "object",
         "stats": {
          "unique_count": 12,
          "nan_count": 0,
          "categories": [
           {
            "name": "RSI(14)",
            "count": 1
           },
           {
            "name": "STOCH(9,6)",
            "count": 1
           },
           {
            "name": "10 others",
            "count": 10
           }
          ]
         }
        },
        {
         "name": "signal",
         "dtype": "object",
         "stats": {
          "unique_count": 3,
          "nan_count": 0,
          "categories": [
           {
            "name": "buy",
            "count": 8
           },
           {
            "name": "overbought",
            "count": 3
           },
           {
            "name": "less_volatility",
            "count": 1
           }
          ]
         }
        },
        {
         "name": "value",
         "dtype": "float64",
         "stats": {
          "unique_count": 12,
          "nan_count": 0,
          "min": "-0.409",
          "max": "4380.266",
          "histogram": [
           {
            "bin_start": -0.409,
            "bin_end": 437.65849999999995,
            "count": 8
           },
           {
            "bin_start": 437.65849999999995,
            "bin_end": 875.7259999999999,
            "count": 1
           },
           {
            "bin_start": 875.7259999999999,
            "bin_end": 1313.7934999999998,
            "count": 0
           },
           {
            "bin_start": 1313.7934999999998,
            "bin_end": 1751.8609999999996,
            "count": 1
           },
           {
            "bin_start": 1751.8609999999996,
            "bin_end": 2189.9284999999995,
            "count": 0
           },
           {
            "bin_start": 2189.9284999999995,
            "bin_end": 2627.9959999999996,
            "count": 0
           },
           {
            "bin_start": 2627.9959999999996,
            "bin_end": 3066.0634999999993,
            "count": 0
           },
           {
            "bin_start": 3066.0634999999993,
            "bin_end": 3504.1309999999994,
            "count": 1
           },
           {
            "bin_start": 3504.1309999999994,
            "bin_end": 3942.1984999999995,
            "count": 0
           },
           {
            "bin_start": 3942.1984999999995,
            "bin_end": 4380.266,
            "count": 1
           }
          ]
         }
        },
        {
         "name": "_deepnote_index_column",
         "dtype": "int64"
        }
       ],
       "rows": [
        {
         "indicator": "RSI(14)",
         "signal": "buy",
         "value": 63.741,
         "_deepnote_index_column": 0
        },
        {
         "indicator": "STOCH(9,6)",
         "signal": "overbought",
         "value": 93.34,
         "_deepnote_index_column": 1
        },
        {
         "indicator": "STOCHRSI(14)",
         "signal": "overbought",
         "value": 100,
         "_deepnote_index_column": 2
        },
        {
         "indicator": "MACD(12,26)",
         "signal": "buy",
         "value": 773.8,
         "_deepnote_index_column": 3
        },
        {
         "indicator": "ADX(14)",
         "signal": "buy",
         "value": 30.216,
         "_deepnote_index_column": 4
        },
        {
         "indicator": "Williams %R",
         "signal": "overbought",
         "value": -0.409,
         "_deepnote_index_column": 5
        },
        {
         "indicator": "CCI(14)",
         "signal": "buy",
         "value": 169.6897,
         "_deepnote_index_column": 6
        },
        {
         "indicator": "ATR(14)",
         "signal": "less_volatility",
         "value": 1584.6331,
         "_deepnote_index_column": 7
        },
        {
         "indicator": "Highs/Lows(14)",
         "signal": "buy",
         "value": 3088.1507,
         "_deepnote_index_column": 8
        },
        {
         "indicator": "Ultimate Oscillator",
         "signal": "buy",
         "value": 65.431,
         "_deepnote_index_column": 9
        }
       ]
      },
      "text/plain": "              indicator           signal      value\n0               RSI(14)              buy    63.7410\n1            STOCH(9,6)       overbought    93.3400\n2          STOCHRSI(14)       overbought   100.0000\n3           MACD(12,26)              buy   773.8000\n4               ADX(14)              buy    30.2160\n5           Williams %R       overbought    -0.4090\n6               CCI(14)              buy   169.6897\n7               ATR(14)  less_volatility  1584.6331\n8        Highs/Lows(14)              buy  3088.1507\n9   Ultimate Oscillator              buy    65.4310\n10                  ROC              buy    16.0090\n11  Bull/Bear Power(13)              buy  4380.2660",
      "text/html": "<div>\n<style scoped>\n    .dataframe tbody tr th:only-of-type {\n        vertical-align: middle;\n    }\n\n    .dataframe tbody tr th {\n        vertical-align: top;\n    }\n\n    .dataframe thead th {\n        text-align: right;\n    }\n</style>\n<table border=\"1\" class=\"dataframe\">\n  <thead>\n    <tr style=\"text-align: right;\">\n      <th></th>\n      <th>indicator</th>\n      <th>signal</th>\n      <th>value</th>\n    </tr>\n  </thead>\n  <tbody>\n    <tr>\n      <th>0</th>\n      <td>RSI(14)</td>\n      <td>buy</td>\n      <td>63.7410</td>\n    </tr>\n    <tr>\n      <th>1</th>\n      <td>STOCH(9,6)</td>\n      <td>overbought</td>\n      <td>93.3400</td>\n    </tr>\n    <tr>\n      <th>2</th>\n      <td>STOCHRSI(14)</td>\n      <td>overbought</td>\n      <td>100.0000</td>\n    </tr>\n    <tr>\n      <th>3</th>\n      <td>MACD(12,26)</td>\n      <td>buy</td>\n      <td>773.8000</td>\n    </tr>\n    <tr>\n      <th>4</th>\n      <td>ADX(14)</td>\n      <td>buy</td>\n      <td>30.2160</td>\n    </tr>\n    <tr>\n      <th>5</th>\n      <td>Williams %R</td>\n      <td>overbought</td>\n      <td>-0.4090</td>\n    </tr>\n    <tr>\n      <th>6</th>\n      <td>CCI(14)</td>\n      <td>buy</td>\n      <td>169.6897</td>\n    </tr>\n    <tr>\n      <th>7</th>\n      <td>ATR(14)</td>\n      <td>less_volatility</td>\n      <td>1584.6331</td>\n    </tr>\n    <tr>\n      <th>8</th>\n      <td>Highs/Lows(14)</td>\n      <td>buy</td>\n      <td>3088.1507</td>\n    </tr>\n    <tr>\n      <th>9</th>\n      <td>Ultimate Oscillator</td>\n      <td>buy</td>\n      <td>65.4310</td>\n    </tr>\n    <tr>\n      <th>10</th>\n      <td>ROC</td>\n      <td>buy</td>\n      <td>16.0090</td>\n    </tr>\n    <tr>\n      <th>11</th>\n      <td>Bull/Bear Power(13)</td>\n      <td>buy</td>\n      <td>4380.2660</td>\n    </tr>\n  </tbody>\n</table>\n</div>"
     },
     "metadata": {}
    }
   ]
  },
  {
   "cell_type": "code",
   "source": "",
   "metadata": {
    "cell_id": "356415fc106946caa53d351a9e3f693f",
    "tags": [],
    "deepnote_cell_type": "code",
    "deepnote_cell_height": 65.5
   },
   "outputs": [],
   "execution_count": null
  },
  {
   "cell_type": "markdown",
   "source": "<a style='text-decoration:none;line-height:16px;display:flex;color:#5B5B62;padding:10px;justify-content:end;' href='https://deepnote.com?utm_source=created-in-deepnote-cell&projectId=1a33cdfb-98c0-40b8-a153-4ce54bc6ba05' target=\"_blank\">\n<img alt='Created in deepnote.com' style='display:inline;max-height:16px;margin:0px;margin-right:7.5px;' src='data:image/svg+xml;base64,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' > </img>\nCreated in <span style='font-weight:600;margin-left:4px;'>Deepnote</span></a>",
   "metadata": {
    "tags": [],
    "created_in_deepnote_cell": true,
    "deepnote_cell_type": "markdown"
   }
  }
 ],
 "nbformat": 4,
 "nbformat_minor": 2,
 "metadata": {
  "orig_nbformat": 2,
  "deepnote": {
   "is_reactive": false
  },
  "deepnote_notebook_id": "7b93f4cb-c818-42b6-bdf6-cb8597e51a3b",
  "deepnote_execution_queue": []
 }
}